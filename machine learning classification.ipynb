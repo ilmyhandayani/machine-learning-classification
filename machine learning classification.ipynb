{
  "nbformat": 4,
  "nbformat_minor": 0,
  "metadata": {
    "colab": {
      "provenance": []
    },
    "kernelspec": {
      "name": "python3",
      "display_name": "Python 3"
    },
    "language_info": {
      "name": "python"
    }
  },
  "cells": [
    {
      "cell_type": "markdown",
      "source": [
        "## **IMPORT LIBRARY**"
      ],
      "metadata": {
        "id": "aJYVHaavLukx"
      }
    },
    {
      "cell_type": "code",
      "execution_count": null,
      "metadata": {
        "colab": {
          "base_uri": "https://localhost:8080/"
        },
        "id": "MGYLsoo2A_KG",
        "outputId": "37c55314-8303-4033-ec5e-c9a4dcc60839"
      },
      "outputs": [
        {
          "output_type": "stream",
          "name": "stdout",
          "text": [
            "Drive already mounted at /content/gdrive; to attempt to forcibly remount, call drive.mount(\"/content/gdrive\", force_remount=True).\n"
          ]
        }
      ],
      "source": [
        "import pandas as pd\n",
        "import numpy as np\n",
        "import matplotlib.pyplot as plt\n",
        "%matplotlib inline\n",
        "import seaborn as sns\n",
        "import warnings\n",
        "warnings.filterwarnings('ignore')\n",
        "\n",
        "from matplotlib.pyplot import figure\n",
        "from sklearn import preprocessing\n",
        "from sklearn.preprocessing import OneHotEncoder\n",
        "from sklearn.preprocessing import LabelEncoder\n",
        "from sklearn.model_selection import train_test_split\n",
        "from sklearn.metrics import classification_report\n",
        "from sklearn.metrics import accuracy_score\n",
        "from sklearn.metrics import precision_score\n",
        "from sklearn.metrics import recall_score\n",
        "from sklearn.metrics import f1_score\n",
        "from sklearn.metrics import confusion_matrix, ConfusionMatrixDisplay\n",
        "\n",
        "from google.colab import drive\n",
        "drive.mount(\"/content/gdrive\")"
      ]
    },
    {
      "cell_type": "markdown",
      "source": [
        "## **DATASET**"
      ],
      "metadata": {
        "id": "jF3kI1CObMNU"
      }
    },
    {
      "cell_type": "code",
      "source": [
        "df = pd.read_csv('/content/gdrive/My Drive/000 Tugas NOW/data/Dataset UAS.csv')"
      ],
      "metadata": {
        "id": "rZ6yZ833Gi3W"
      },
      "execution_count": null,
      "outputs": []
    },
    {
      "cell_type": "markdown",
      "source": [
        "## **DATA UNDERSTANDING**"
      ],
      "metadata": {
        "id": "lw0cZqK5bQk1"
      }
    },
    {
      "cell_type": "code",
      "source": [
        "print(f\"Jumlah Baris = {df.shape[0]}\")\n",
        "print(f\"Jumlah Kolom = {df.shape[1]}\")"
      ],
      "metadata": {
        "colab": {
          "base_uri": "https://localhost:8080/"
        },
        "id": "wpYQRn_ZGvhf",
        "outputId": "d679baa2-2a8f-4c01-ebee-f71dff30ab8d"
      },
      "execution_count": null,
      "outputs": [
        {
          "output_type": "stream",
          "name": "stdout",
          "text": [
            "Jumlah Baris = 1470\n",
            "Jumlah Kolom = 26\n"
          ]
        }
      ]
    },
    {
      "cell_type": "code",
      "source": [
        "df['Attrition'].value_counts().plot(kind='bar')\n",
        "df['Attrition'].value_counts()"
      ],
      "metadata": {
        "colab": {
          "base_uri": "https://localhost:8080/",
          "height": 490
        },
        "id": "vArIFHCIGyAv",
        "outputId": "a9a3d433-d63d-445f-9189-12b74f628cc6"
      },
      "execution_count": null,
      "outputs": [
        {
          "output_type": "execute_result",
          "data": {
            "text/plain": [
              "No     1233\n",
              "Yes     237\n",
              "Name: Attrition, dtype: int64"
            ]
          },
          "metadata": {},
          "execution_count": 1521
        },
        {
          "output_type": "display_data",
          "data": {
            "text/plain": [
              "<Figure size 640x480 with 1 Axes>"
            ],
            "image/png": "[encoded data removed]"
          },
          "metadata": {}
        }
      ]
    },
    {
      "cell_type": "markdown",
      "source": [
        "## **PREPROCESSING**"
      ],
      "metadata": {
        "id": "U-tNkpUtkQco"
      }
    },
    {
      "cell_type": "markdown",
      "source": [
        "### **Cek Data Duplikat**"
      ],
      "metadata": {
        "id": "l7MqoMFobW-Y"
      }
    },
    {
      "cell_type": "code",
      "source": [
        "# Memeriksa keberadaan data duplikat\n",
        "df.duplicated().sum()"
      ],
      "metadata": {
        "colab": {
          "base_uri": "https://localhost:8080/"
        },
        "id": "qW1QXYYyJYHd",
        "outputId": "2fb9ede8-9153-4897-c0f5-1302dbc20af0"
      },
      "execution_count": null,
      "outputs": [
        {
          "output_type": "execute_result",
          "data": {
            "text/plain": [
              "0"
            ]
          },
          "metadata": {},
          "execution_count": 1522
        }
      ]
    },
    {
      "cell_type": "markdown",
      "source": [
        "### **Cek Missing Values**"
      ],
      "metadata": {
        "id": "YRMMMjKMbbhB"
      }
    },
    {
      "cell_type": "code",
      "source": [
        "# Memeriksa keberadaan missing values\n",
        "df.isna().sum()"
      ],
      "metadata": {
        "colab": {
          "base_uri": "https://localhost:8080/"
        },
        "id": "OEgmLdZbJlAZ",
        "outputId": "66cd0f9a-bd51-4ae9-be93-7a165b5ee97a"
      },
      "execution_count": null,
      "outputs": [
        {
          "output_type": "execute_result",
          "data": {
            "text/plain": [
              "Attrition                    0\n",
              "Age                          0\n",
              "BusinessTravel              55\n",
              "DailyRate                    0\n",
              "Department                   0\n",
              "DistanceFromHome             0\n",
              "Education                    0\n",
              "EducationField               0\n",
              "EnvironmentSatisfaction      0\n",
              "Gender                       0\n",
              "HourlyRate                  88\n",
              "JobInvolvement               0\n",
              "JobLevel                     0\n",
              "JobRole                      0\n",
              "JobSatisfaction              0\n",
              "MaritalStatus                0\n",
              "MonthlyIncome                0\n",
              "MonthlyRate                  0\n",
              "NumCompaniesWorked           0\n",
              "Over18                       0\n",
              "OverTime                     0\n",
              "PercentSalaryHike            0\n",
              "PerformanceRating            0\n",
              "RelationshipSatisfaction     0\n",
              "TotalWorkingYears            0\n",
              "YearsAtCompany               0\n",
              "dtype: int64"
            ]
          },
          "metadata": {},
          "execution_count": 1523
        }
      ]
    },
    {
      "cell_type": "markdown",
      "source": [
        "#### **Menangani Missing Values pada kolom BusinessTravel dan Hourly Rate**"
      ],
      "metadata": {
        "id": "3ZKnFOgTe7eU"
      }
    },
    {
      "cell_type": "code",
      "source": [
        "modus_BusinessTravel = df['BusinessTravel'].mode()[0]\n",
        "df['BusinessTravel'] = df['BusinessTravel'].fillna(modus_BusinessTravel)"
      ],
      "metadata": {
        "id": "pBiRZVCScnFw"
      },
      "execution_count": null,
      "outputs": []
    },
    {
      "cell_type": "code",
      "source": [
        "mean_HourlyRate = df['HourlyRate'].mean()\n",
        "df['HourlyRate'] = df['HourlyRate'].fillna(mean_HourlyRate)"
      ],
      "metadata": {
        "id": "BJdLgoFkbjgl"
      },
      "execution_count": null,
      "outputs": []
    },
    {
      "cell_type": "code",
      "source": [
        "# Memeriksa kembali keberadaan missing values\n",
        "df.isna().sum()"
      ],
      "metadata": {
        "colab": {
          "base_uri": "https://localhost:8080/"
        },
        "id": "pDZvmEx9cETw",
        "outputId": "001868fa-2d3e-4994-9f27-f110cc3eab64"
      },
      "execution_count": null,
      "outputs": [
        {
          "output_type": "execute_result",
          "data": {
            "text/plain": [
              "Attrition                   0\n",
              "Age                         0\n",
              "BusinessTravel              0\n",
              "DailyRate                   0\n",
              "Department                  0\n",
              "DistanceFromHome            0\n",
              "Education                   0\n",
              "EducationField              0\n",
              "EnvironmentSatisfaction     0\n",
              "Gender                      0\n",
              "HourlyRate                  0\n",
              "JobInvolvement              0\n",
              "JobLevel                    0\n",
              "JobRole                     0\n",
              "JobSatisfaction             0\n",
              "MaritalStatus               0\n",
              "MonthlyIncome               0\n",
              "MonthlyRate                 0\n",
              "NumCompaniesWorked          0\n",
              "Over18                      0\n",
              "OverTime                    0\n",
              "PercentSalaryHike           0\n",
              "PerformanceRating           0\n",
              "RelationshipSatisfaction    0\n",
              "TotalWorkingYears           0\n",
              "YearsAtCompany              0\n",
              "dtype: int64"
            ]
          },
          "metadata": {},
          "execution_count": 1526
        }
      ]
    },
    {
      "cell_type": "markdown",
      "source": [
        "### **Deklarasi Variabel Fitur & Target**"
      ],
      "metadata": {
        "id": "LWSGFp5DftVf"
      }
    },
    {
      "cell_type": "code",
      "source": [
        "x = df.drop([\"Attrition\"], axis=1)\n",
        "y = df[\"Attrition\"]"
      ],
      "metadata": {
        "id": "ivahGmEhHSry"
      },
      "execution_count": null,
      "outputs": []
    },
    {
      "cell_type": "markdown",
      "source": [
        "### **One Hot Encoding**"
      ],
      "metadata": {
        "id": "s6qfOSqbfyjE"
      }
    },
    {
      "cell_type": "code",
      "source": [
        "# One hot encoding pada fitur kategorikal\n",
        "categorical_cols = x.select_dtypes(include=['object']).columns.tolist()\n",
        "encoder = OneHotEncoder(handle_unknown='ignore')\n",
        "x_cat = pd.DataFrame(encoder.fit_transform(x[categorical_cols]).toarray(), columns=encoder.get_feature_names_out(categorical_cols))\n",
        "x_num = x.select_dtypes(exclude=['object'])\n",
        "x = pd.concat([x_cat, x_num], axis=1)"
      ],
      "metadata": {
        "id": "Cea_CAzOHvXS"
      },
      "execution_count": null,
      "outputs": []
    },
    {
      "cell_type": "markdown",
      "source": [
        "### **Labels Encoding**"
      ],
      "metadata": {
        "id": "d_KcmQQNdU-e"
      }
    },
    {
      "cell_type": "code",
      "source": [
        "le = LabelEncoder()\n",
        "y = le.fit_transform(y)"
      ],
      "metadata": {
        "id": "uFzn9RyMdUvd"
      },
      "execution_count": null,
      "outputs": []
    },
    {
      "cell_type": "markdown",
      "source": [
        "### **Data Splitting**"
      ],
      "metadata": {
        "id": "ySKAMd3rf1SA"
      }
    },
    {
      "cell_type": "code",
      "source": [
        "x_train, x_test, y_train, y_test = train_test_split(x, y, test_size=0.3, random_state=0)"
      ],
      "metadata": {
        "id": "1Ebr-2WpHw9u"
      },
      "execution_count": null,
      "outputs": []
    },
    {
      "cell_type": "code",
      "source": [
        "# Data training dan testing\n",
        "jumlah_data_training = x_train.shape[0]\n",
        "jumlah_data_testing = x_test.shape[0]\n",
        "\n",
        "# Menyiapkan data untuk bar chart\n",
        "data = [jumlah_data_training, jumlah_data_testing]\n",
        "labels = ['Data Training', 'Data Testing']\n",
        "\n",
        "# Membuat bar chart\n",
        "plt.bar(labels, data)\n",
        "\n",
        "# Memberikan judul dan label sumbu\n",
        "plt.title('Jumlah Data Training dan Testing')\n",
        "plt.xlabel('Tipe Data')\n",
        "plt.ylabel('Jumlah Data')\n",
        "\n",
        "# Menampilkan bar chart\n",
        "plt.show()"
      ],
      "metadata": {
        "colab": {
          "base_uri": "https://localhost:8080/",
          "height": 472
        },
        "id": "grppbjwDHyD_",
        "outputId": "8970cf84-129c-45d7-bb28-142a65017312"
      },
      "execution_count": null,
      "outputs": [
        {
          "output_type": "display_data",
          "data": {
            "text/plain": [
              "<Figure size 640x480 with 1 Axes>"
            ],
            "image/png": "[encoded data removed]"
          },
          "metadata": {}
        }
      ]
    },
    {
      "cell_type": "markdown",
      "source": [
        "### **SMOTE**"
      ],
      "metadata": {
        "id": "xShia8LhItcu"
      }
    },
    {
      "cell_type": "markdown",
      "source": [
        "#### **Sebelum SMOTE**"
      ],
      "metadata": {
        "id": "7muG5Nk4vEfH"
      }
    },
    {
      "cell_type": "code",
      "source": [
        "print(\"Jumlah label 'Yes' sebelum oversampling pada data training: {}\".format(sum(y_train == 1)))\n",
        "print(\"Jumlah label 'No' sebelum oversampling pada data training: {}\".format(sum(y_train == 0)))"
      ],
      "metadata": {
        "colab": {
          "base_uri": "https://localhost:8080/"
        },
        "id": "8hk2nFe8H0sL",
        "outputId": "37db05dd-0ecd-4b57-b365-ab9ca5982391"
      },
      "execution_count": null,
      "outputs": [
        {
          "output_type": "stream",
          "name": "stdout",
          "text": [
            "Jumlah label 'Yes' sebelum oversampling pada data training: 167\n",
            "Jumlah label 'No' sebelum oversampling pada data training: 862\n"
          ]
        }
      ]
    },
    {
      "cell_type": "code",
      "source": [
        "print(\"Jumlah label 'Yes' sebelum oversampling pada data testing: {}\".format(sum(y_test == 1)))\n",
        "print(\"Jumlah label 'No' sebelum oversampling pada data testing: {}\".format(sum(y_test == 0)))"
      ],
      "metadata": {
        "colab": {
          "base_uri": "https://localhost:8080/"
        },
        "id": "Pd9Fp32dqMha",
        "outputId": "3c959b80-17ec-4b95-8583-3f8ed125ccf5"
      },
      "execution_count": null,
      "outputs": [
        {
          "output_type": "stream",
          "name": "stdout",
          "text": [
            "Jumlah label 'Yes' sebelum oversampling pada data testing: 70\n",
            "Jumlah label 'No' sebelum oversampling pada data testing: 371\n"
          ]
        }
      ]
    },
    {
      "cell_type": "markdown",
      "source": [
        "#### **Implementasi SMOTE**"
      ],
      "metadata": {
        "id": "l1ymQJzuvJ2x"
      }
    },
    {
      "cell_type": "code",
      "source": [
        "from imblearn.over_sampling import SMOTE\n",
        "sm = SMOTE(k_neighbors = 3, random_state = 0)\n",
        "x_train, y_train = sm.fit_resample(x_train, y_train)\n",
        "x_test, y_test = sm.fit_resample(x_test, y_test)"
      ],
      "metadata": {
        "id": "GRWrgX2wI-WV"
      },
      "execution_count": null,
      "outputs": []
    },
    {
      "cell_type": "markdown",
      "source": [
        "#### **Setelah SMOTE**"
      ],
      "metadata": {
        "id": "X6gTWLdWvN7m"
      }
    },
    {
      "cell_type": "code",
      "source": [
        "print(\"Jumlah label 'Yes' setelah oversampling pada data training: {}\".format(sum(y_train == 1)))\n",
        "print(\"Jumlah label 'No' setelah oversampling pada data training: {}\".format(sum(y_train == 0)))"
      ],
      "metadata": {
        "colab": {
          "base_uri": "https://localhost:8080/"
        },
        "id": "TDpKKPapc8He",
        "outputId": "2e1829d3-dfe4-43a3-8c63-0f3e14700282"
      },
      "execution_count": null,
      "outputs": [
        {
          "output_type": "stream",
          "name": "stdout",
          "text": [
            "Jumlah label 'Yes' setelah oversampling pada data training: 862\n",
            "Jumlah label 'No' setelah oversampling pada data training: 862\n"
          ]
        }
      ]
    },
    {
      "cell_type": "code",
      "source": [
        "print(\"Jumlah label 'Yes' setelah oversampling pada data testing: {}\".format(sum(y_test == 1)))\n",
        "print(\"Jumlah label 'No' setelah oversampling pada data testing: {}\".format(sum(y_test == 0)))"
      ],
      "metadata": {
        "colab": {
          "base_uri": "https://localhost:8080/"
        },
        "id": "rGCu7ahddN0M",
        "outputId": "9fd4f6d5-1d83-4fb5-8460-baa0cef0d037"
      },
      "execution_count": null,
      "outputs": [
        {
          "output_type": "stream",
          "name": "stdout",
          "text": [
            "Jumlah label 'Yes' setelah oversampling pada data testing: 371\n",
            "Jumlah label 'No' setelah oversampling pada data testing: 371\n"
          ]
        }
      ]
    },
    {
      "cell_type": "code",
      "source": [
        "print(f\"Jumlah Data Training = {x_train.shape[0]} \\nJumlah Data Testing = {x_test.shape[0]}\")"
      ],
      "metadata": {
        "colab": {
          "base_uri": "https://localhost:8080/"
        },
        "id": "U-c-bafrdSya",
        "outputId": "6f04488b-01df-4f99-a4f7-bb15c5d9ec97"
      },
      "execution_count": null,
      "outputs": [
        {
          "output_type": "stream",
          "name": "stdout",
          "text": [
            "Jumlah Data Training = 1724 \n",
            "Jumlah Data Testing = 742\n"
          ]
        }
      ]
    },
    {
      "cell_type": "markdown",
      "source": [
        "# **MODELLING**"
      ],
      "metadata": {
        "id": "-9ppecR9kJZD"
      }
    },
    {
      "cell_type": "markdown",
      "source": [
        "## **1. Random Forest**"
      ],
      "metadata": {
        "id": "n0pm1AqMhcyh"
      }
    },
    {
      "cell_type": "code",
      "source": [
        "from sklearn.ensemble import RandomForestClassifier\n",
        "rfc = RandomForestClassifier(n_estimators=100, random_state=0)\n",
        "\n",
        "rfc.fit(x_train, y_train)\n",
        "\n",
        "y_pred_train = rfc.predict(x_train)\n",
        "y_pred_test = rfc.predict(x_test)"
      ],
      "metadata": {
        "id": "cvbWDG7RdbKU"
      },
      "execution_count": null,
      "outputs": []
    },
    {
      "cell_type": "markdown",
      "source": [
        "### **Classification Report Data Training**"
      ],
      "metadata": {
        "id": "bdIj7GSAsMNj"
      }
    },
    {
      "cell_type": "code",
      "source": [
        "print(\"-Classification Report Data Training [RANDOM FOREST]-\")\n",
        "print(\"-----------------------------------------------------\")\n",
        "print(classification_report(y_train, y_pred_train))"
      ],
      "metadata": {
        "colab": {
          "base_uri": "https://localhost:8080/"
        },
        "id": "DgO_MDi8dcyb",
        "outputId": "f412f4b6-1b96-4511-eb1f-dd043a4dab12"
      },
      "execution_count": null,
      "outputs": [
        {
          "output_type": "stream",
          "name": "stdout",
          "text": [
            "-Classification Report Data Training [RANDOM FOREST]-\n",
            "-----------------------------------------------------\n",
            "              precision    recall  f1-score   support\n",
            "\n",
            "           0       1.00      1.00      1.00       862\n",
            "           1       1.00      1.00      1.00       862\n",
            "\n",
            "    accuracy                           1.00      1724\n",
            "   macro avg       1.00      1.00      1.00      1724\n",
            "weighted avg       1.00      1.00      1.00      1724\n",
            "\n"
          ]
        }
      ]
    },
    {
      "cell_type": "markdown",
      "source": [
        "### **Classification Report Data Testing**"
      ],
      "metadata": {
        "id": "8k2-bxycsR8M"
      }
    },
    {
      "cell_type": "code",
      "source": [
        "print(\"-Classification Report Data Testing [RANDOM FOREST]-\")\n",
        "print(\"-----------------------------------------------------\")\n",
        "print(classification_report(y_test, y_pred_test))"
      ],
      "metadata": {
        "colab": {
          "base_uri": "https://localhost:8080/"
        },
        "id": "sD2OghE7dePG",
        "outputId": "2bc49c3e-062a-433c-b118-a77b875505d6"
      },
      "execution_count": null,
      "outputs": [
        {
          "output_type": "stream",
          "name": "stdout",
          "text": [
            "-Classification Report Data Testing [RANDOM FOREST]-\n",
            "-----------------------------------------------------\n",
            "              precision    recall  f1-score   support\n",
            "\n",
            "           0       0.84      0.98      0.91       371\n",
            "           1       0.98      0.82      0.89       371\n",
            "\n",
            "    accuracy                           0.90       742\n",
            "   macro avg       0.91      0.90      0.90       742\n",
            "weighted avg       0.91      0.90      0.90       742\n",
            "\n"
          ]
        }
      ]
    },
    {
      "cell_type": "markdown",
      "source": [
        "### **Classification Report - Average Macro**"
      ],
      "metadata": {
        "id": "IC813VXhtmux"
      }
    },
    {
      "cell_type": "code",
      "source": [
        "print(\"====== Data Training RF ======\")\n",
        "print(\"------------------------------\")\n",
        "print(f'Accuracy  : {accuracy_score(y_train, y_pred_train)}')\n",
        "print(f\"Precision : {precision_score(y_train, y_pred_train, average='macro')}\")\n",
        "print(f\"Recall    : {recall_score(y_train, y_pred_train, average='macro')}\")\n",
        "print(f\"F1        : {f1_score(y_train, y_pred_train, average='macro')}\")\n",
        "print(\" \")\n",
        "print(\"======= Data Testing RF =======\")\n",
        "print(\"-------------------------------\")\n",
        "print(f'Accuracy  : {accuracy_score(y_test, y_pred_test)}')\n",
        "print(f\"Precision : {precision_score(y_test, y_pred_test, average='macro')}\")\n",
        "print(f\"Recall    : {recall_score(y_test, y_pred_test, average='macro')}\")\n",
        "print(f\"F1        : {f1_score(y_test, y_pred_test, average='macro')}\")"
      ],
      "metadata": {
        "colab": {
          "base_uri": "https://localhost:8080/"
        },
        "id": "0Ulfrg50j9D6",
        "outputId": "cd6965e7-be37-4224-e735-1abb80d1d1ea"
      },
      "execution_count": null,
      "outputs": [
        {
          "output_type": "stream",
          "name": "stdout",
          "text": [
            "====== Data Training RF ======\n",
            "------------------------------\n",
            "Accuracy  : 1.0\n",
            "Precision : 1.0\n",
            "Recall    : 1.0\n",
            "F1        : 1.0\n",
            " \n",
            "======= Data Testing RF =======\n",
            "-------------------------------\n",
            "Accuracy  : 0.9002695417789758\n",
            "Precision : 0.9110197626099477\n",
            "Recall    : 0.9002695417789757\n",
            "F1        : 0.8996131372448644\n"
          ]
        }
      ]
    },
    {
      "cell_type": "markdown",
      "source": [
        "### **Confusion Matrix**"
      ],
      "metadata": {
        "id": "-UMgF033wcXd"
      }
    },
    {
      "cell_type": "code",
      "source": [
        "# Menghitung confusion matrix\n",
        "cm = confusion_matrix(y_test, y_pred_test)\n",
        "\n",
        "# Membuat objek ConfusionMatrixDisplay\n",
        "matrix = ConfusionMatrixDisplay(confusion_matrix=cm, display_labels=le.classes_)\n",
        "\n",
        "# Menampilkan confusion matrix\n",
        "fig, ax = plt.subplots(figsize=(8, 6))\n",
        "matrix.plot(ax=ax, cmap=plt.cm.Blues)\n",
        "\n",
        "# Mengatur label sumbu x dengan rotasi 70 derajat\n",
        "ax.set_xticklabels(le.classes_, rotation=70)\n",
        "\n",
        "# Memberikan judul dan tampilkan plot\n",
        "ax.set_title('Confusion Matrix, without Normalization')\n",
        "plt.show()"
      ],
      "metadata": {
        "colab": {
          "base_uri": "https://localhost:8080/",
          "height": 576
        },
        "id": "sP8hceJjwarN",
        "outputId": "f9fe8cbe-fc91-4a38-9117-a504452582ba"
      },
      "execution_count": null,
      "outputs": [
        {
          "output_type": "display_data",
          "data": {
            "text/plain": [
              "<Figure size 800x600 with 2 Axes>"
            ],
            "image/png": "[encoded data removed]"
          },
          "metadata": {}
        }
      ]
    },
    {
      "cell_type": "code",
      "source": [
        "# Menghitung confusion matrix yang telah dinormalisasi\n",
        "cm_normalized = confusion_matrix(y_test, y_pred_test, normalize='true')\n",
        "\n",
        "# Membuat objek ConfusionMatrixDisplay\n",
        "matrix = ConfusionMatrixDisplay(confusion_matrix=cm_normalized, display_labels=le.classes_)\n",
        "\n",
        "# Menampilkan confusion matrix yang telah dinormalisasi\n",
        "fig, ax = plt.subplots(figsize=(8, 6))\n",
        "matrix.plot(ax=ax, cmap=plt.cm.Blues)\n",
        "\n",
        "# Mengatur label sumbu x dengan rotasi 70 derajat\n",
        "ax.set_xticklabels(le.classes_, rotation=70)\n",
        "\n",
        "# Memberikan judul dan tampilkan plot\n",
        "ax.set_title('Normalized Confusion Matrix')\n",
        "plt.show()"
      ],
      "metadata": {
        "colab": {
          "base_uri": "https://localhost:8080/",
          "height": 576
        },
        "id": "Ak74k4D9wvDL",
        "outputId": "531db112-e729-4a9f-89a3-e13655f27ea5"
      },
      "execution_count": null,
      "outputs": [
        {
          "output_type": "display_data",
          "data": {
            "text/plain": [
              "<Figure size 800x600 with 2 Axes>"
            ],
            "image/png": "[encoded data removed]"
          },
          "metadata": {}
        }
      ]
    },
    {
      "cell_type": "markdown",
      "source": [
        "## **2. Multi-Layer Perceptron**"
      ],
      "metadata": {
        "id": "jyfWC0b3jcy5"
      }
    },
    {
      "cell_type": "code",
      "source": [
        "from sklearn.neural_network import MLPClassifier\n",
        "\n",
        "mlp = MLPClassifier(hidden_layer_sizes=(50, 50), max_iter=1000, random_state=0)\n",
        "mlp.fit(x_train, y_train)\n",
        "\n",
        "# Prediksi dengan model yang sudah dilatih\n",
        "y_pred_train = mlp.predict(x_train)\n",
        "y_pred_test = mlp.predict(x_test)"
      ],
      "metadata": {
        "id": "xRzZvK6shqhy"
      },
      "execution_count": null,
      "outputs": []
    },
    {
      "cell_type": "markdown",
      "source": [
        "### **Classification Report Data Training**"
      ],
      "metadata": {
        "id": "9-uoAJMPufsX"
      }
    },
    {
      "cell_type": "code",
      "source": [
        "print(\"-Classification Report Data Training [Multi-Layer P]-\")\n",
        "print(\"-----------------------------------------------------\")\n",
        "print(classification_report(y_train, y_pred_train))"
      ],
      "metadata": {
        "colab": {
          "base_uri": "https://localhost:8080/"
        },
        "id": "I6f7zFXhqlvB",
        "outputId": "93d34c78-1f88-4086-927c-dc65e1a2f072"
      },
      "execution_count": null,
      "outputs": [
        {
          "output_type": "stream",
          "name": "stdout",
          "text": [
            "-Classification Report Data Training [Multi-Layer P]-\n",
            "-----------------------------------------------------\n",
            "              precision    recall  f1-score   support\n",
            "\n",
            "           0       0.79      0.29      0.43       862\n",
            "           1       0.57      0.92      0.70       862\n",
            "\n",
            "    accuracy                           0.61      1724\n",
            "   macro avg       0.68      0.61      0.56      1724\n",
            "weighted avg       0.68      0.61      0.56      1724\n",
            "\n"
          ]
        }
      ]
    },
    {
      "cell_type": "markdown",
      "source": [
        "### **Classification Report Data Testing**"
      ],
      "metadata": {
        "id": "hF4UcvivujOs"
      }
    },
    {
      "cell_type": "code",
      "source": [
        "print(\"-Classification Report Data Testing [Multi-Layer P.]-\")\n",
        "print(\"-----------------------------------------------------\")\n",
        "print(classification_report(y_test, y_pred_test))"
      ],
      "metadata": {
        "colab": {
          "base_uri": "https://localhost:8080/"
        },
        "id": "n9FNfttdrL-t",
        "outputId": "6a290813-29f6-4f7e-b59e-4687f380dfad"
      },
      "execution_count": null,
      "outputs": [
        {
          "output_type": "stream",
          "name": "stdout",
          "text": [
            "-Classification Report Data Testing [Multi-Layer P.]-\n",
            "-----------------------------------------------------\n",
            "              precision    recall  f1-score   support\n",
            "\n",
            "           0       0.62      0.28      0.38       371\n",
            "           1       0.53      0.83      0.65       371\n",
            "\n",
            "    accuracy                           0.55       742\n",
            "   macro avg       0.58      0.55      0.52       742\n",
            "weighted avg       0.58      0.55      0.52       742\n",
            "\n"
          ]
        }
      ]
    },
    {
      "cell_type": "markdown",
      "source": [
        "### **Classification Report - Average Macro**"
      ],
      "metadata": {
        "id": "V6fO38pPubNB"
      }
    },
    {
      "cell_type": "code",
      "source": [
        "print(\"===== Data Training MLP ======\")\n",
        "print(\"------------------------------\")\n",
        "print(f'Accuracy  : {accuracy_score(y_train, y_pred_train)}')\n",
        "print(f\"Precision : {precision_score(y_train, y_pred_train, average='macro')}\")\n",
        "print(f\"Recall    : {recall_score(y_train, y_pred_train, average='macro')}\")\n",
        "print(f\"F1        : {f1_score(y_train, y_pred_train, average='macro')}\")\n",
        "print(\" \")\n",
        "print(\"====== Data Testing MLP ======\")\n",
        "print(\"------------------------------\")\n",
        "print(f'Accuracy  : {accuracy_score(y_test, y_pred_test)}')\n",
        "print(f\"Precision : {precision_score(y_test, y_pred_test, average='macro')}\")\n",
        "print(f\"Recall    : {recall_score(y_test, y_pred_test, average='macro')}\")\n",
        "print(f\"F1        : {f1_score(y_test, y_pred_test, average='macro')}\")"
      ],
      "metadata": {
        "colab": {
          "base_uri": "https://localhost:8080/"
        },
        "id": "Quo8Mti7rOCL",
        "outputId": "9466f7c8-68ec-4575-f9d1-d801a5d84239"
      },
      "execution_count": null,
      "outputs": [
        {
          "output_type": "stream",
          "name": "stdout",
          "text": [
            "===== Data Training MLP ======\n",
            "------------------------------\n",
            "Accuracy  : 0.6084686774941995\n",
            "Precision : 0.6807030642192373\n",
            "Recall    : 0.6084686774941995\n",
            "F1        : 0.564996517953566\n",
            " \n",
            "====== Data Testing MLP ======\n",
            "------------------------------\n",
            "Accuracy  : 0.5525606469002695\n",
            "Precision : 0.5753397552720645\n",
            "Recall    : 0.5525606469002695\n",
            "F1        : 0.5159741270228\n"
          ]
        }
      ]
    },
    {
      "cell_type": "markdown",
      "source": [
        "### **Confusion Matrix**"
      ],
      "metadata": {
        "id": "yFurPHipye2g"
      }
    },
    {
      "cell_type": "code",
      "source": [
        "# Menghitung confusion matrix\n",
        "cm = confusion_matrix(y_test, y_pred_test)\n",
        "\n",
        "# Membuat objek ConfusionMatrixDisplay\n",
        "matrix = ConfusionMatrixDisplay(confusion_matrix=cm, display_labels=le.classes_)\n",
        "\n",
        "# Menampilkan confusion matrix\n",
        "fig, ax = plt.subplots(figsize=(8, 6))\n",
        "matrix.plot(ax=ax, cmap=plt.cm.Blues)\n",
        "\n",
        "# Mengatur label sumbu x dengan rotasi 70 derajat\n",
        "ax.set_xticklabels(le.classes_, rotation=70)\n",
        "\n",
        "# Memberikan judul dan tampilkan plot\n",
        "ax.set_title('Confusion Matrix, without Normalization')\n",
        "plt.show()"
      ],
      "metadata": {
        "colab": {
          "base_uri": "https://localhost:8080/",
          "height": 576
        },
        "id": "Iuz92fVrygdp",
        "outputId": "4d464929-49c3-49db-ac12-70a64bee337a"
      },
      "execution_count": null,
      "outputs": [
        {
          "output_type": "display_data",
          "data": {
            "text/plain": [
              "<Figure size 800x600 with 2 Axes>"
            ],
            "image/png": "[encoded data removed]"
          },
          "metadata": {}
        }
      ]
    },
    {
      "cell_type": "code",
      "source": [
        "# Menghitung confusion matrix yang telah dinormalisasi\n",
        "cm_normalized = confusion_matrix(y_test, y_pred_test, normalize='true')\n",
        "\n",
        "# Membuat objek ConfusionMatrixDisplay\n",
        "matrix = ConfusionMatrixDisplay(confusion_matrix=cm_normalized, display_labels=le.classes_)\n",
        "\n",
        "# Menampilkan confusion matrix yang telah dinormalisasi\n",
        "fig, ax = plt.subplots(figsize=(8, 6))\n",
        "matrix.plot(ax=ax, cmap=plt.cm.Blues)\n",
        "\n",
        "# Mengatur label sumbu x dengan rotasi 70 derajat\n",
        "ax.set_xticklabels(le.classes_, rotation=70)\n",
        "\n",
        "# Memberikan judul dan tampilkan plot\n",
        "ax.set_title('Normalized Confusion Matrix')\n",
        "plt.show()"
      ],
      "metadata": {
        "colab": {
          "base_uri": "https://localhost:8080/",
          "height": 576
        },
        "id": "T-mKYCxIyibA",
        "outputId": "86e80ead-ec90-4113-82c4-ead952de19f2"
      },
      "execution_count": null,
      "outputs": [
        {
          "output_type": "display_data",
          "data": {
            "text/plain": [
              "<Figure size 800x600 with 2 Axes>"
            ],
            "image/png": "[encoded data removed]"
          },
          "metadata": {}
        }
      ]
    },
    {
      "cell_type": "markdown",
      "source": [
        "## **3. Naive Bayes**"
      ],
      "metadata": {
        "id": "ESkVHXJJjfGE"
      }
    },
    {
      "cell_type": "code",
      "source": [
        "from sklearn.naive_bayes import GaussianNB\n",
        "\n",
        "# Inisialisasi dan latih model Naive Bayes\n",
        "nb = GaussianNB()\n",
        "nb.fit(x_train, y_train)\n",
        "\n",
        "# Prediksi dengan model yang sudah dilatih\n",
        "y_pred_train = nb.predict(x_train)\n",
        "y_pred_test = nb.predict(x_test)"
      ],
      "metadata": {
        "id": "Fm0I5YrZi9ct"
      },
      "execution_count": null,
      "outputs": []
    },
    {
      "cell_type": "markdown",
      "source": [
        "### **Classification Report Data Training**"
      ],
      "metadata": {
        "id": "iJwsRgjexhqK"
      }
    },
    {
      "cell_type": "code",
      "source": [
        "print(\"--Classification Report Data Training [Naive Bayes]--\")\n",
        "print(\"-----------------------------------------------------\")\n",
        "print(classification_report(y_train, y_pred_train))"
      ],
      "metadata": {
        "colab": {
          "base_uri": "https://localhost:8080/"
        },
        "id": "1dfSb7MErcDL",
        "outputId": "47db59a9-c82e-4968-96ae-95c740680336"
      },
      "execution_count": null,
      "outputs": [
        {
          "output_type": "stream",
          "name": "stdout",
          "text": [
            "--Classification Report Data Training [Naive Bayes]--\n",
            "-----------------------------------------------------\n",
            "              precision    recall  f1-score   support\n",
            "\n",
            "           0       0.85      0.58      0.69       862\n",
            "           1       0.68      0.89      0.77       862\n",
            "\n",
            "    accuracy                           0.74      1724\n",
            "   macro avg       0.76      0.74      0.73      1724\n",
            "weighted avg       0.76      0.74      0.73      1724\n",
            "\n"
          ]
        }
      ]
    },
    {
      "cell_type": "markdown",
      "source": [
        "### **Classification Report Data Testing**"
      ],
      "metadata": {
        "id": "fAG8Uua1xjOe"
      }
    },
    {
      "cell_type": "code",
      "source": [
        "print(\"--Classification Report Data Testing [Naive Bayes.]--\")\n",
        "print(\"-----------------------------------------------------\")\n",
        "print(classification_report(y_test, y_pred_test))"
      ],
      "metadata": {
        "colab": {
          "base_uri": "https://localhost:8080/"
        },
        "id": "9_VBvltBreFq",
        "outputId": "d121f5a5-1be0-4aca-9ff8-a7c0540f8d23"
      },
      "execution_count": null,
      "outputs": [
        {
          "output_type": "stream",
          "name": "stdout",
          "text": [
            "--Classification Report Data Testing [Naive Bayes.]--\n",
            "-----------------------------------------------------\n",
            "              precision    recall  f1-score   support\n",
            "\n",
            "           0       0.78      0.60      0.67       371\n",
            "           1       0.67      0.83      0.74       371\n",
            "\n",
            "    accuracy                           0.71       742\n",
            "   macro avg       0.73      0.71      0.71       742\n",
            "weighted avg       0.73      0.71      0.71       742\n",
            "\n"
          ]
        }
      ]
    },
    {
      "cell_type": "markdown",
      "source": [
        "### **Classification Report - Average Macro**"
      ],
      "metadata": {
        "id": "IjrNWnVzxnEm"
      }
    },
    {
      "cell_type": "code",
      "source": [
        "print(\"====== Data Training NB ======\")\n",
        "print(\"------------------------------\")\n",
        "print(f'Accuracy  : {accuracy_score(y_train, y_pred_train)}')\n",
        "print(f\"Precision : {precision_score(y_train, y_pred_train, average='macro')}\")\n",
        "print(f\"Recall    : {recall_score(y_train, y_pred_train, average='macro')}\")\n",
        "print(f\"F1        : {f1_score(y_train, y_pred_train, average='macro')}\")\n",
        "print(\" \")\n",
        "print(\"======= Data Testing NB ======\")\n",
        "print(\"------------------------------\")\n",
        "print(f'Accuracy  : {accuracy_score(y_test, y_pred_test)}')\n",
        "print(f\"Precision : {precision_score(y_test, y_pred_test, average='macro')}\")\n",
        "print(f\"Recall    : {recall_score(y_test, y_pred_test, average='macro')}\")\n",
        "print(f\"F1        : {f1_score(y_test, y_pred_test, average='macro')}\")"
      ],
      "metadata": {
        "colab": {
          "base_uri": "https://localhost:8080/"
        },
        "id": "KvvrSfTCrgbO",
        "outputId": "1ed5ec33-4a71-48d1-ed6b-0b0e20d3633d"
      },
      "execution_count": null,
      "outputs": [
        {
          "output_type": "stream",
          "name": "stdout",
          "text": [
            "====== Data Training NB ======\n",
            "------------------------------\n",
            "Accuracy  : 0.7360788863109049\n",
            "Precision : 0.7623980015407283\n",
            "Recall    : 0.7360788863109049\n",
            "F1        : 0.729290696899933\n",
            " \n",
            "======= Data Testing NB ======\n",
            "------------------------------\n",
            "Accuracy  : 0.7129380053908356\n",
            "Precision : 0.7253290485269697\n",
            "Recall    : 0.7129380053908356\n",
            "F1        : 0.7089365463770385\n"
          ]
        }
      ]
    },
    {
      "cell_type": "markdown",
      "source": [
        "### **Confusion Matrix**"
      ],
      "metadata": {
        "id": "JMdqbEmMzIJU"
      }
    },
    {
      "cell_type": "code",
      "source": [
        "# Menghitung confusion matrix\n",
        "cm = confusion_matrix(y_test, y_pred_test)\n",
        "\n",
        "# Membuat objek ConfusionMatrixDisplay\n",
        "matrix = ConfusionMatrixDisplay(confusion_matrix=cm, display_labels=le.classes_)\n",
        "\n",
        "# Menampilkan confusion matrix\n",
        "fig, ax = plt.subplots(figsize=(8, 6))\n",
        "matrix.plot(ax=ax, cmap=plt.cm.Blues)\n",
        "\n",
        "# Mengatur label sumbu x dengan rotasi 70 derajat\n",
        "ax.set_xticklabels(le.classes_, rotation=70)\n",
        "\n",
        "# Memberikan judul dan tampilkan plot\n",
        "ax.set_title('Confusion Matrix, without Normalization')\n",
        "plt.show()"
      ],
      "metadata": {
        "colab": {
          "base_uri": "https://localhost:8080/",
          "height": 576
        },
        "id": "LDyH3YrgzMon",
        "outputId": "ea8f9fb6-7fac-4f80-f98e-9f5c47852ace"
      },
      "execution_count": null,
      "outputs": [
        {
          "output_type": "display_data",
          "data": {
            "text/plain": [
              "<Figure size 800x600 with 2 Axes>"
            ],
            "image/png": "[encoded data removed]"
          },
          "metadata": {}
        }
      ]
    },
    {
      "cell_type": "code",
      "source": [
        "# Menghitung confusion matrix yang telah dinormalisasi\n",
        "cm_normalized = confusion_matrix(y_test, y_pred_test, normalize='true')\n",
        "\n",
        "# Membuat objek ConfusionMatrixDisplay\n",
        "matrix = ConfusionMatrixDisplay(confusion_matrix=cm_normalized, display_labels=le.classes_)\n",
        "\n",
        "# Menampilkan confusion matrix yang telah dinormalisasi\n",
        "fig, ax = plt.subplots(figsize=(8, 6))\n",
        "matrix.plot(ax=ax, cmap=plt.cm.Blues)\n",
        "\n",
        "# Mengatur label sumbu x dengan rotasi 70 derajat\n",
        "ax.set_xticklabels(le.classes_, rotation=70)\n",
        "\n",
        "# Memberikan judul dan tampilkan plot\n",
        "ax.set_title('Normalized Confusion Matrix')\n",
        "plt.show()"
      ],
      "metadata": {
        "colab": {
          "base_uri": "https://localhost:8080/",
          "height": 576
        },
        "id": "mnsMGIQQzObB",
        "outputId": "aebe6c89-08c4-4b83-d36b-f19cb9e7802d"
      },
      "execution_count": null,
      "outputs": [
        {
          "output_type": "display_data",
          "data": {
            "text/plain": [
              "<Figure size 800x600 with 2 Axes>"
            ],
            "image/png": "[encoded data removed]"
          },
          "metadata": {}
        }
      ]
    },
    {
      "cell_type": "markdown",
      "source": [
        "## **4. Decision Tree**"
      ],
      "metadata": {
        "id": "5upwCsA2j0Uk"
      }
    },
    {
      "cell_type": "code",
      "source": [
        "from sklearn.tree import DecisionTreeClassifier\n",
        "\n",
        "# Inisialisasi dan latih model Decision Tree\n",
        "dt = DecisionTreeClassifier()\n",
        "dt.fit(x_train, y_train)\n",
        "\n",
        "# Prediksi dengan model yang sudah dilatih\n",
        "y_pred_train = dt.predict(x_train)\n",
        "y_pred_test = dt.predict(x_test)"
      ],
      "metadata": {
        "id": "tKGQbBccjsjN"
      },
      "execution_count": null,
      "outputs": []
    },
    {
      "cell_type": "markdown",
      "source": [
        "### **Classification Report Data Training**"
      ],
      "metadata": {
        "id": "BHCj2HNax7Rl"
      }
    },
    {
      "cell_type": "code",
      "source": [
        "print(\"-Classification Report Data Training [Decision Tree]-\")\n",
        "print(\"-----------------------------------------------------\")\n",
        "print(classification_report(y_train, y_pred_train))"
      ],
      "metadata": {
        "colab": {
          "base_uri": "https://localhost:8080/"
        },
        "id": "TKiZ4xUQx92r",
        "outputId": "574d02d5-0b07-47e3-867b-0a6175625fe6"
      },
      "execution_count": null,
      "outputs": [
        {
          "output_type": "stream",
          "name": "stdout",
          "text": [
            "-Classification Report Data Training [Decision Tree]-\n",
            "-----------------------------------------------------\n",
            "              precision    recall  f1-score   support\n",
            "\n",
            "           0       1.00      1.00      1.00       862\n",
            "           1       1.00      1.00      1.00       862\n",
            "\n",
            "    accuracy                           1.00      1724\n",
            "   macro avg       1.00      1.00      1.00      1724\n",
            "weighted avg       1.00      1.00      1.00      1724\n",
            "\n"
          ]
        }
      ]
    },
    {
      "cell_type": "markdown",
      "source": [
        "### **Classification Report Data Testing**"
      ],
      "metadata": {
        "id": "0JL8io1NyC-i"
      }
    },
    {
      "cell_type": "code",
      "source": [
        "print(\"-Classification Report Data Testing [Decision Tree.]-\")\n",
        "print(\"-----------------------------------------------------\")\n",
        "print(classification_report(y_test, y_pred_test))"
      ],
      "metadata": {
        "colab": {
          "base_uri": "https://localhost:8080/"
        },
        "id": "JH1szqXgyFfu",
        "outputId": "b3fd07a2-34ac-4002-c47f-5845f3dcfdad"
      },
      "execution_count": null,
      "outputs": [
        {
          "output_type": "stream",
          "name": "stdout",
          "text": [
            "-Classification Report Data Testing [Decision Tree.]-\n",
            "-----------------------------------------------------\n",
            "              precision    recall  f1-score   support\n",
            "\n",
            "           0       0.79      0.86      0.82       371\n",
            "           1       0.85      0.77      0.81       371\n",
            "\n",
            "    accuracy                           0.81       742\n",
            "   macro avg       0.82      0.81      0.81       742\n",
            "weighted avg       0.82      0.81      0.81       742\n",
            "\n"
          ]
        }
      ]
    },
    {
      "cell_type": "markdown",
      "source": [
        "### **Classification Report - Average Macro**"
      ],
      "metadata": {
        "id": "1w5siYCMyK2I"
      }
    },
    {
      "cell_type": "code",
      "source": [
        "print(\"====== Data Training DT ======\")\n",
        "print(\"------------------------------\")\n",
        "print(f'Accuracy  : {accuracy_score(y_train, y_pred_train)}')\n",
        "print(f\"Precision : {precision_score(y_train, y_pred_train, average='macro')}\")\n",
        "print(f\"Recall    : {recall_score(y_train, y_pred_train, average='macro')}\")\n",
        "print(f\"F1        : {f1_score(y_train, y_pred_train, average='macro')}\")\n",
        "print(\" \")\n",
        "print(\"======= Data Testing DT ======\")\n",
        "print(\"------------------------------\")\n",
        "print(f'Accuracy  : {accuracy_score(y_test, y_pred_test)}')\n",
        "print(f\"Precision : {precision_score(y_test, y_pred_test, average='macro')}\")\n",
        "print(f\"Recall    : {recall_score(y_test, y_pred_test, average='macro')}\")\n",
        "print(f\"F1        : {f1_score(y_test, y_pred_test, average='macro')}\")"
      ],
      "metadata": {
        "colab": {
          "base_uri": "https://localhost:8080/"
        },
        "id": "V1bBd_xDyMoU",
        "outputId": "3773ceeb-5d17-48f5-82d7-64d63db61f12"
      },
      "execution_count": null,
      "outputs": [
        {
          "output_type": "stream",
          "name": "stdout",
          "text": [
            "====== Data Training DT ======\n",
            "------------------------------\n",
            "Accuracy  : 1.0\n",
            "Precision : 1.0\n",
            "Recall    : 1.0\n",
            "F1        : 1.0\n",
            " \n",
            "======= Data Testing DT ======\n",
            "------------------------------\n",
            "Accuracy  : 0.8140161725067385\n",
            "Precision : 0.8166758251822545\n",
            "Recall    : 0.8140161725067385\n",
            "F1        : 0.81362484710816\n"
          ]
        }
      ]
    },
    {
      "cell_type": "markdown",
      "source": [
        "### **Confusion Matrix**"
      ],
      "metadata": {
        "id": "a25jL-qPzI_t"
      }
    },
    {
      "cell_type": "code",
      "source": [
        "# Menghitung confusion matrix\n",
        "cm = confusion_matrix(y_test, y_pred_test)\n",
        "\n",
        "# Membuat objek ConfusionMatrixDisplay\n",
        "matrix = ConfusionMatrixDisplay(confusion_matrix=cm, display_labels=le.classes_)\n",
        "\n",
        "# Menampilkan confusion matrix\n",
        "fig, ax = plt.subplots(figsize=(8, 6))\n",
        "matrix.plot(ax=ax, cmap=plt.cm.Blues)\n",
        "\n",
        "# Mengatur label sumbu x dengan rotasi 70 derajat\n",
        "ax.set_xticklabels(le.classes_, rotation=70)\n",
        "\n",
        "# Memberikan judul dan tampilkan plot\n",
        "ax.set_title('Confusion Matrix, without Normalization')\n",
        "plt.show()"
      ],
      "metadata": {
        "colab": {
          "base_uri": "https://localhost:8080/",
          "height": 576
        },
        "id": "pgIkwiUIzP0c",
        "outputId": "701f7d2a-d505-4fa1-b05e-a8eb8f3ddfa2"
      },
      "execution_count": null,
      "outputs": [
        {
          "output_type": "display_data",
          "data": {
            "text/plain": [
              "<Figure size 800x600 with 2 Axes>"
            ],
            "image/png": "[encoded data removed]"
          },
          "metadata": {}
        }
      ]
    },
    {
      "cell_type": "code",
      "source": [
        "# Menghitung confusion matrix yang telah dinormalisasi\n",
        "cm_normalized = confusion_matrix(y_test, y_pred_test, normalize='true')\n",
        "\n",
        "# Membuat objek ConfusionMatrixDisplay\n",
        "matrix = ConfusionMatrixDisplay(confusion_matrix=cm_normalized, display_labels=le.classes_)\n",
        "\n",
        "# Menampilkan confusion matrix yang telah dinormalisasi\n",
        "fig, ax = plt.subplots(figsize=(8, 6))\n",
        "matrix.plot(ax=ax, cmap=plt.cm.Blues)\n",
        "\n",
        "# Mengatur label sumbu x dengan rotasi 70 derajat\n",
        "ax.set_xticklabels(le.classes_, rotation=70)\n",
        "\n",
        "# Memberikan judul dan tampilkan plot\n",
        "ax.set_title('Normalized Confusion Matrix')\n",
        "plt.show()"
      ],
      "metadata": {
        "colab": {
          "base_uri": "https://localhost:8080/",
          "height": 576
        },
        "id": "QsXeOW6EzRsN",
        "outputId": "460a9d1b-e0c0-4830-fb02-5223f9060131"
      },
      "execution_count": null,
      "outputs": [
        {
          "output_type": "display_data",
          "data": {
            "text/plain": [
              "<Figure size 800x600 with 2 Axes>"
            ],
            "image/png": "[encoded data removed]"
          },
          "metadata": {}
        }
      ]
    }
  ]
}